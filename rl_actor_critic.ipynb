{
 "cells": [
  {
   "cell_type": "code",
   "metadata": {
    "ExecuteTime": {
     "end_time": "2025-08-25T06:56:32.379598Z",
     "start_time": "2025-08-25T06:56:28.795552Z"
    }
   },
   "source": [
    "import math\n",
    "import random\n",
    "\n",
    "import gymnasium as gym\n",
    "import numpy as np\n",
    "from mad_pod_racing import MapPodRacing\n",
    "\n",
    "import torch\n",
    "import torch.nn as nn\n",
    "import torch.optim as optim\n",
    "import torch.nn.functional as F\n",
    "from torch.distributions import Normal, Categorical\n",
    "from IPython.display import clear_output\n",
    "import matplotlib.pyplot as plt"
   ],
   "outputs": [
    {
     "name": "stderr",
     "output_type": "stream",
     "text": [
      "C:\\Users\\boris\\AppData\\Local\\Programs\\Python\\Python313\\Lib\\site-packages\\pygame\\pkgdata.py:25: UserWarning: pkg_resources is deprecated as an API. See https://setuptools.pypa.io/en/latest/pkg_resources.html. The pkg_resources package is slated for removal as early as 2025-11-30. Refrain from using this package or pin to Setuptools<81.\n",
      "  from pkg_resources import resource_stream, resource_exists\n"
     ]
    }
   ],
   "execution_count": 1
  },
  {
   "cell_type": "code",
   "metadata": {
    "ExecuteTime": {
     "end_time": "2025-08-25T07:02:02.910195Z",
     "start_time": "2025-08-25T07:02:02.883690Z"
    }
   },
   "source": [
    "gym.register(\n",
    "        id=\"gymnasium_env/MapPodRacing-v0\",\n",
    "        entry_point=MapPodRacing,\n",
    "        max_episode_steps=500,  # Prevent infinite episodes\n",
    ")\n",
    "\n",
    "env_name = 'gymnasium_env/MapPodRacing-v0'\n",
    "env = gym.make(env_name)"
   ],
   "outputs": [
    {
     "name": "stderr",
     "output_type": "stream",
     "text": [
      "C:\\Users\\boris\\AppData\\Local\\Programs\\Python\\Python313\\Lib\\site-packages\\gymnasium\\envs\\registration.py:636: UserWarning: \u001B[33mWARN: Overriding environment gymnasium_env/MapPodRacing-v0 already in registry.\u001B[0m\n",
      "  logger.warn(f\"Overriding environment {new_spec.id} already in registry.\")\n"
     ]
    }
   ],
   "execution_count": 17
  },
  {
   "cell_type": "code",
   "metadata": {
    "ExecuteTime": {
     "end_time": "2025-08-25T06:56:51.350417Z",
     "start_time": "2025-08-25T06:56:51.345352Z"
    }
   },
   "source": [
    "class RL(nn.Module):\n",
    "    def __init__(self, action_num=8, hidden_size=256):\n",
    "        super(RL, self).__init__()\n",
    "        self.fc_actor1 = nn.Linear(8, hidden_size)\n",
    "        self.fc_actor2 = nn.Linear(hidden_size, action_num)\n",
    "\n",
    "        self.fc_critic1 = nn.Linear(8, hidden_size)\n",
    "        self.fc_critic2 = nn.Linear(hidden_size, 1)\n",
    "\n",
    "    def forward(self, x):\n",
    "        ax = F.relu(self.fc_actor1(x))\n",
    "        dist = Categorical(logits = self.fc_actor2(ax))\n",
    "                   \n",
    "        cx = F.relu(self.fc_critic1(x))\n",
    "        value = self.fc_critic2(cx)\n",
    "        return dist, value"
   ],
   "outputs": [],
   "execution_count": 3
  },
  {
   "cell_type": "code",
   "metadata": {
    "ExecuteTime": {
     "end_time": "2025-08-25T06:56:57.080597Z",
     "start_time": "2025-08-25T06:56:57.076133Z"
    }
   },
   "source": [
    "def calc_returns(rewards, gamma = 0.99):\n",
    "    returns = []\n",
    "    delta = 0\n",
    "    for reward in rewards[::-1]:\n",
    "        #Bug fixed on this line\n",
    "        delta = reward + gamma*delta\n",
    "        returns.insert(0, delta)\n",
    "    return returns\n",
    "\n",
    "def test_agent():\n",
    "    done = False\n",
    "    total_reward = 0\n",
    "    observation = torch.FloatTensor(env.reset()).unsqueeze(0)\n",
    "\n",
    "    with torch.no_grad():\n",
    "        while not done:\n",
    "            dist, _ = rl_model(observation)\n",
    "            action = dist.sample().cpu().item()\n",
    "            observation, reward, done, info = env.step(action)\n",
    "            \n",
    "            observation = torch.FloatTensor(observation).unsqueeze(0)\n",
    "            total_reward += reward\n",
    "            \n",
    "    return total_reward"
   ],
   "outputs": [],
   "execution_count": 4
  },
  {
   "cell_type": "code",
   "metadata": {
    "ExecuteTime": {
     "end_time": "2025-08-25T06:57:15.632073Z",
     "start_time": "2025-08-25T06:57:03.826833Z"
    }
   },
   "source": [
    "rl_model = RL()\n",
    "lr = 1e-3\n",
    "optimizer = optim.Adam(rl_model.parameters(), lr=lr)"
   ],
   "outputs": [],
   "execution_count": 5
  },
  {
   "cell_type": "code",
   "metadata": {
    "ExecuteTime": {
     "end_time": "2025-08-25T07:02:48.649471Z",
     "start_time": "2025-08-25T07:02:48.646611Z"
    }
   },
   "source": [
    "max_steps = 200\n",
    "rollouts = 0\n",
    "step = 0\n",
    "score_logger = []"
   ],
   "outputs": [],
   "execution_count": 20
  },
  {
   "cell_type": "code",
   "metadata": {
    "ExecuteTime": {
     "end_time": "2025-08-25T07:02:50.097527Z",
     "start_time": "2025-08-25T07:02:50.054899Z"
    }
   },
   "source": [
    "while step < max_steps:\n",
    "    obs = env.reset()\n",
    "    observation =  torch.FloatTensor(obs[0]).unsqueeze(0)\n",
    "    done = False\n",
    "    rewards = []\n",
    "    values = []\n",
    "    log_probs = []\n",
    "    \n",
    "    while not done:\n",
    "        dist, value = rl_model(observation)\n",
    "        action = dist.sample()\n",
    "        log_prob = dist.log_prob(action.unsqueeze(0))\n",
    "        \n",
    "        observation, reward, done, info = env.step(action.cpu().item())\n",
    "        \n",
    "        observation = torch.FloatTensor(observation).unsqueeze(0)\n",
    "        reward = torch.FloatTensor([reward]).unsqueeze(0)\n",
    "\n",
    "        rewards.append(reward)\n",
    "        values.append(value)\n",
    "        log_probs.append(log_prob)\n",
    "        step +=1\n",
    "    \n",
    "    returns = calc_returns(rewards)\n",
    "    \n",
    "    returns = torch.cat(returns, 1)\n",
    "    log_probs = torch.cat(log_probs, 1)\n",
    "    values = torch.cat(values, 1)\n",
    "    advantage = (returns - values).detach()\n",
    "    \n",
    "    action_loss = - (log_probs * advantage).mean()\n",
    "    critic_loss = (returns - values).pow(2).mean()\n",
    "    agent_loss = action_loss + critic_loss\n",
    "    \n",
    "    optimizer.zero_grad()\n",
    "    agent_loss.backward()\n",
    "    optimizer.step()\n",
    "    rollouts += 1\n",
    "    \n",
    "    if rollouts % 10 == 0:\n",
    "        new_lr = ((max_steps - step)/max_steps) * lr\n",
    "        optimizer.param_groups[0][\"lr\"] = new_lr\n",
    "        \n",
    "        score_logger.append(np.mean([test_agent() for _ in range(10)]))\n",
    "        clear_output(True)\n",
    "        plt.plot(score_logger)\n",
    "        plt.show()\n",
    "    \n",
    "env.close()"
   ],
   "outputs": [
    {
     "ename": "ValueError",
     "evalue": "too many values to unpack (expected 4)",
     "output_type": "error",
     "traceback": [
      "\u001B[31m---------------------------------------------------------------------------\u001B[39m",
      "\u001B[31mValueError\u001B[39m                                Traceback (most recent call last)",
      "\u001B[36mCell\u001B[39m\u001B[36m \u001B[39m\u001B[32mIn[21]\u001B[39m\u001B[32m, line 14\u001B[39m\n\u001B[32m     11\u001B[39m action = dist.sample()\n\u001B[32m     12\u001B[39m log_prob = dist.log_prob(action.unsqueeze(\u001B[32m0\u001B[39m))\n\u001B[32m---> \u001B[39m\u001B[32m14\u001B[39m observation, reward, done, info = env.step(action.cpu().item())\n\u001B[32m     16\u001B[39m observation = torch.FloatTensor(observation).unsqueeze(\u001B[32m0\u001B[39m)\n\u001B[32m     17\u001B[39m reward = torch.FloatTensor([reward]).unsqueeze(\u001B[32m0\u001B[39m)\n",
      "\u001B[31mValueError\u001B[39m: too many values to unpack (expected 4)"
     ]
    }
   ],
   "execution_count": 21
  },
  {
   "cell_type": "code",
   "execution_count": null,
   "metadata": {},
   "outputs": [],
   "source": [
    "value"
   ]
  },
  {
   "cell_type": "code",
   "execution_count": null,
   "metadata": {},
   "outputs": [],
   "source": [
    "plt.plot(score_logger)"
   ]
  },
  {
   "cell_type": "code",
   "execution_count": null,
   "metadata": {},
   "outputs": [],
   "source": []
  }
 ],
 "metadata": {
  "kernelspec": {
   "display_name": "Python 3",
   "language": "python",
   "name": "python3"
  },
  "language_info": {
   "codemirror_mode": {
    "name": "ipython",
    "version": 3
   },
   "file_extension": ".py",
   "mimetype": "text/x-python",
   "name": "python",
   "nbconvert_exporter": "python",
   "pygments_lexer": "ipython3",
   "version": "3.6.9"
  }
 },
 "nbformat": 4,
 "nbformat_minor": 2
}
