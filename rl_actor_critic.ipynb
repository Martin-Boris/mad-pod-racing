{
 "cells": [
  {
   "cell_type": "code",
   "metadata": {
    "ExecuteTime": {
     "end_time": "2025-08-25T13:01:01.611089Z",
     "start_time": "2025-08-25T13:00:55.344826Z"
    }
   },
   "source": [
    "import math\n",
    "import random\n",
    "\n",
    "import gymnasium as gym\n",
    "import imageio\n",
    "import numpy as np\n",
    "from mad_pod_racing import MapPodRacing\n",
    "\n",
    "import torch\n",
    "import torch.nn as nn\n",
    "import torch.optim as optim\n",
    "import torch.nn.functional as F\n",
    "from torch.distributions import Normal, Categorical\n",
    "from IPython.display import clear_output\n",
    "import matplotlib.pyplot as plt"
   ],
   "outputs": [
    {
     "name": "stderr",
     "output_type": "stream",
     "text": [
      "C:\\Users\\bmartin\\AppData\\Roaming\\Python\\Python313\\site-packages\\pygame\\pkgdata.py:25: UserWarning: pkg_resources is deprecated as an API. See https://setuptools.pypa.io/en/latest/pkg_resources.html. The pkg_resources package is slated for removal as early as 2025-11-30. Refrain from using this package or pin to Setuptools<81.\n",
      "  from pkg_resources import resource_stream, resource_exists\n"
     ]
    }
   ],
   "execution_count": 1
  },
  {
   "cell_type": "code",
   "metadata": {
    "ExecuteTime": {
     "end_time": "2025-08-25T13:01:01.623740Z",
     "start_time": "2025-08-25T13:01:01.617618Z"
    }
   },
   "source": [
    "gym.register(\n",
    "        id=\"gymnasium_env/MapPodRacing-v0\",\n",
    "        entry_point=MapPodRacing,\n",
    "        max_episode_steps=500,  # Prevent infinite episodes\n",
    ")\n",
    "\n",
    "env_name = 'gymnasium_env/MapPodRacing-v0'\n",
    "env = gym.make(env_name)"
   ],
   "outputs": [],
   "execution_count": 2
  },
  {
   "cell_type": "code",
   "metadata": {
    "ExecuteTime": {
     "end_time": "2025-08-25T13:01:01.653894Z",
     "start_time": "2025-08-25T13:01:01.645423Z"
    }
   },
   "source": [
    "class RL(nn.Module):\n",
    "    def __init__(self, action_num=8, hidden_size=256):\n",
    "        super(RL, self).__init__()\n",
    "        self.fc_actor1 = nn.Linear(8, hidden_size)\n",
    "        self.fc_actor2 = nn.Linear(hidden_size, hidden_size)\n",
    "        self.fc_actor3 = nn.Linear(hidden_size, action_num)\n",
    "\n",
    "        self.fc_critic1 = nn.Linear(8, hidden_size)\n",
    "        self.fc_critic2 = nn.Linear(hidden_size, hidden_size)\n",
    "        self.fc_critic3 = nn.Linear(hidden_size, 1)\n",
    "\n",
    "    def forward(self, x):\n",
    "        ax = F.relu(self.fc_actor1(x))\n",
    "        ax2 = F.relu(self.fc_actor2(ax))\n",
    "        dist = Categorical(logits = self.fc_actor3(ax2))\n",
    "                   \n",
    "        cx = F.relu(self.fc_critic1(x))\n",
    "        cx2 = F.relu(self.fc_critic2(cx))\n",
    "        value = self.fc_critic3(cx2)\n",
    "        return dist, value"
   ],
   "outputs": [],
   "execution_count": 3
  },
  {
   "cell_type": "code",
   "metadata": {
    "ExecuteTime": {
     "end_time": "2025-08-25T13:01:01.675858Z",
     "start_time": "2025-08-25T13:01:01.670960Z"
    }
   },
   "source": [
    "def calc_returns(rewards, gamma = 0.99):\n",
    "    returns = []\n",
    "    delta = 0\n",
    "    for reward in rewards[::-1]:\n",
    "        #Bug fixed on this line\n",
    "        delta = reward + gamma*delta\n",
    "        returns.insert(0, delta)\n",
    "    return returns\n",
    "\n",
    "def test_agent():\n",
    "    terminated = False\n",
    "    total_reward = 0\n",
    "    obs,info = env.reset()\n",
    "    observation = torch.FloatTensor(obs).unsqueeze(0)\n",
    "\n",
    "    with torch.no_grad():\n",
    "        while not terminated:\n",
    "            dist, _ = rl_model(observation)\n",
    "            action = dist.sample().cpu().item()\n",
    "            observation, reward, terminated, truncated, info = env.step(action)\n",
    "            \n",
    "            observation = torch.FloatTensor(observation).unsqueeze(0)\n",
    "            total_reward += reward\n",
    "            \n",
    "    return total_reward"
   ],
   "outputs": [],
   "execution_count": 4
  },
  {
   "cell_type": "code",
   "metadata": {
    "ExecuteTime": {
     "end_time": "2025-08-25T13:01:03.095347Z",
     "start_time": "2025-08-25T13:01:01.684719Z"
    }
   },
   "source": [
    "rl_model = RL()\n",
    "lr = 1e-1\n",
    "optimizer = optim.Adam(rl_model.parameters(), lr=lr)"
   ],
   "outputs": [],
   "execution_count": 5
  },
  {
   "cell_type": "code",
   "metadata": {
    "ExecuteTime": {
     "end_time": "2025-08-25T13:34:31.920178Z",
     "start_time": "2025-08-25T13:34:31.915082Z"
    }
   },
   "source": [
    "max_steps = 3000000\n",
    "rollouts = 0\n",
    "step = 0\n",
    "score_logger = []"
   ],
   "outputs": [],
   "execution_count": 40
  },
  {
   "cell_type": "code",
   "metadata": {},
   "source": [
    "while step < max_steps:\n",
    "    obs,info = env.reset()\n",
    "    observation =  torch.FloatTensor(obs).unsqueeze(0)\n",
    "    terminated = False\n",
    "    rewards = []\n",
    "    values = []\n",
    "    log_probs = []\n",
    "    \n",
    "    while not terminated:\n",
    "        dist, value = rl_model(observation)\n",
    "        action = dist.sample()\n",
    "        log_prob = dist.log_prob(action.unsqueeze(0))\n",
    "        \n",
    "        observation, reward, terminated, truncated, info = env.step(action.cpu().item())\n",
    "\n",
    "        observation = torch.FloatTensor(observation).unsqueeze(0)\n",
    "        reward = torch.FloatTensor([reward]).unsqueeze(0)\n",
    "\n",
    "        rewards.append(reward)\n",
    "        values.append(value)\n",
    "        log_probs.append(log_prob)\n",
    "        step +=1\n",
    "    \n",
    "    returns = calc_returns(rewards)\n",
    "    \n",
    "    returns = torch.cat(returns, 1)\n",
    "    log_probs = torch.cat(log_probs, 1)\n",
    "    values = torch.cat(values, 1)\n",
    "    advantage = (returns - values).detach()\n",
    "    \n",
    "    action_loss = - (log_probs * advantage).mean()\n",
    "    critic_loss = (returns - values).pow(2).mean()\n",
    "    agent_loss = action_loss + critic_loss\n",
    "    \n",
    "    optimizer.zero_grad()\n",
    "    agent_loss.backward()\n",
    "    optimizer.step()\n",
    "    rollouts += 1\n",
    "    \n",
    "    if rollouts % 10 == 0:\n",
    "        new_lr = ((max_steps - step)/max_steps) * lr\n",
    "        optimizer.param_groups[0][\"lr\"] = new_lr\n",
    "        \n",
    "        score_logger.append(np.mean([test_agent() for _ in range(10)]))\n",
    "        clear_output(True)\n",
    "        plt.plot(score_logger)\n",
    "        plt.show()\n",
    "    \n",
    "env.close()"
   ],
   "execution_count": 41,
   "outputs": [
    {
     "ename": "KeyboardInterrupt",
     "evalue": "",
     "output_type": "error",
     "traceback": [
      "\u001B[31m---------------------------------------------------------------------------\u001B[39m",
      "\u001B[31mKeyboardInterrupt\u001B[39m                         Traceback (most recent call last)",
      "\u001B[36mCell\u001B[39m\u001B[36m \u001B[39m\u001B[32mIn[41]\u001B[39m\u001B[32m, line 12\u001B[39m\n\u001B[32m     10\u001B[39m dist, value = rl_model(observation)\n\u001B[32m     11\u001B[39m action = dist.sample()\n\u001B[32m---> \u001B[39m\u001B[32m12\u001B[39m log_prob = \u001B[43mdist\u001B[49m\u001B[43m.\u001B[49m\u001B[43mlog_prob\u001B[49m\u001B[43m(\u001B[49m\u001B[43maction\u001B[49m\u001B[43m.\u001B[49m\u001B[43munsqueeze\u001B[49m\u001B[43m(\u001B[49m\u001B[32;43m0\u001B[39;49m\u001B[43m)\u001B[49m\u001B[43m)\u001B[49m\n\u001B[32m     14\u001B[39m observation, reward, terminated, truncated, info = env.step(action.cpu().item())\n\u001B[32m     16\u001B[39m observation = torch.FloatTensor(observation).unsqueeze(\u001B[32m0\u001B[39m)\n",
      "\u001B[36mFile \u001B[39m\u001B[32m~\\AppData\\Local\\Programs\\Python\\Python313\\Lib\\site-packages\\torch\\distributions\\categorical.py:150\u001B[39m, in \u001B[36mCategorical.log_prob\u001B[39m\u001B[34m(self, value)\u001B[39m\n\u001B[32m    148\u001B[39m     \u001B[38;5;28mself\u001B[39m._validate_sample(value)\n\u001B[32m    149\u001B[39m value = value.long().unsqueeze(-\u001B[32m1\u001B[39m)\n\u001B[32m--> \u001B[39m\u001B[32m150\u001B[39m value, log_pmf = \u001B[43mtorch\u001B[49m\u001B[43m.\u001B[49m\u001B[43mbroadcast_tensors\u001B[49m\u001B[43m(\u001B[49m\u001B[43mvalue\u001B[49m\u001B[43m,\u001B[49m\u001B[43m \u001B[49m\u001B[38;5;28;43mself\u001B[39;49m\u001B[43m.\u001B[49m\u001B[43mlogits\u001B[49m\u001B[43m)\u001B[49m\n\u001B[32m    151\u001B[39m value = value[..., :\u001B[32m1\u001B[39m]\n\u001B[32m    152\u001B[39m \u001B[38;5;28;01mreturn\u001B[39;00m log_pmf.gather(-\u001B[32m1\u001B[39m, value).squeeze(-\u001B[32m1\u001B[39m)\n",
      "\u001B[36mFile \u001B[39m\u001B[32m~\\AppData\\Local\\Programs\\Python\\Python313\\Lib\\site-packages\\torch\\functional.py:77\u001B[39m, in \u001B[36mbroadcast_tensors\u001B[39m\u001B[34m(*tensors)\u001B[39m\n\u001B[32m     75\u001B[39m \u001B[38;5;28;01mif\u001B[39;00m has_torch_function(tensors):\n\u001B[32m     76\u001B[39m     \u001B[38;5;28;01mreturn\u001B[39;00m handle_torch_function(broadcast_tensors, tensors, *tensors)\n\u001B[32m---> \u001B[39m\u001B[32m77\u001B[39m \u001B[38;5;28;01mreturn\u001B[39;00m \u001B[43m_VF\u001B[49m\u001B[43m.\u001B[49m\u001B[43mbroadcast_tensors\u001B[49m\u001B[43m(\u001B[49m\u001B[43mtensors\u001B[49m\u001B[43m)\u001B[49m\n",
      "\u001B[31mKeyboardInterrupt\u001B[39m: "
     ]
    }
   ]
  },
  {
   "cell_type": "code",
   "metadata": {
    "ExecuteTime": {
     "end_time": "2025-08-25T15:11:07.916899Z",
     "start_time": "2025-08-25T15:11:07.910431Z"
    }
   },
   "source": [
    "value"
   ],
   "outputs": [
    {
     "data": {
      "text/plain": [
       "tensor([[2.8346]], grad_fn=<AddmmBackward0>)"
      ]
     },
     "execution_count": 42,
     "metadata": {},
     "output_type": "execute_result"
    }
   ],
   "execution_count": 42
  },
  {
   "cell_type": "code",
   "metadata": {
    "ExecuteTime": {
     "end_time": "2025-08-25T15:11:09.898666Z",
     "start_time": "2025-08-25T15:11:09.720713Z"
    }
   },
   "source": [
    "plt.plot(score_logger)"
   ],
   "outputs": [
    {
     "data": {
      "text/plain": [
       "[<matplotlib.lines.Line2D at 0x26e31bb5f90>]"
      ]
     },
     "execution_count": 43,
     "metadata": {},
     "output_type": "execute_result"
    },
    {
     "data": {
      "text/plain": [
       "<Figure size 640x480 with 1 Axes>"
      ],
      "image/png": "[encoded data removed]"
     },
     "metadata": {},
     "output_type": "display_data"
    }
   ],
   "execution_count": 43
  },
  {
   "cell_type": "code",
   "metadata": {
    "ExecuteTime": {
     "end_time": "2025-08-25T15:11:52.892097Z",
     "start_time": "2025-08-25T15:11:52.734206Z"
    }
   },
   "source": [
    "terminated = False\n",
    "total_reward = 0\n",
    "obs,info = env.reset()\n",
    "observation = torch.FloatTensor(obs).unsqueeze(0)\n",
    "frames = [env.render()]\n",
    "round =0\n",
    "with torch.no_grad():\n",
    "    while not terminated:\n",
    "        round +=1\n",
    "        dist, _ = rl_model(observation)\n",
    "        action = dist.sample().cpu().item()\n",
    "        observation, reward, terminated, truncated, info = env.step(action)\n",
    "        frames.append(env.render())\n",
    "        observation = torch.FloatTensor(observation).unsqueeze(0)\n",
    "        total_reward += reward\n",
    "print(total_reward)\n",
    "print(round)\n",
    "imageio.mimsave(\"mad_pod_episode.gif\", frames, fps=10)\n",
    "\n",
    "\n"
   ],
   "outputs": [
    {
     "name": "stdout",
     "output_type": "stream",
     "text": [
      "0\n",
      "100\n"
     ]
    }
   ],
   "execution_count": 48
  }
 ],
 "metadata": {
  "kernelspec": {
   "display_name": "Python 3",
   "language": "python",
   "name": "python3"
  },
  "language_info": {
   "codemirror_mode": {
    "name": "ipython",
    "version": 3
   },
   "file_extension": ".py",
   "mimetype": "text/x-python",
   "name": "python",
   "nbconvert_exporter": "python",
   "pygments_lexer": "ipython3",
   "version": "3.6.9"
  }
 },
 "nbformat": 4,
 "nbformat_minor": 2
}
