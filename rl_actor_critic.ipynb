{
 "cells": [
  {
   "cell_type": "code",
   "metadata": {
    "ExecuteTime": {
     "end_time": "2025-08-25T17:02:43.968813Z",
     "start_time": "2025-08-25T17:02:41.091606Z"
    }
   },
   "source": [
    "import math\n",
    "import random\n",
    "\n",
    "import gymnasium as gym\n",
    "import imageio\n",
    "import numpy as np\n",
    "from mad_pod_racing import MapPodRacing\n",
    "\n",
    "import torch\n",
    "import torch.nn as nn\n",
    "import torch.optim as optim\n",
    "import torch.nn.functional as F\n",
    "from torch.distributions import Normal, Categorical\n",
    "from IPython.display import clear_output\n",
    "import matplotlib.pyplot as plt"
   ],
   "outputs": [
    {
     "name": "stderr",
     "output_type": "stream",
     "text": [
      "C:\\Users\\boris\\AppData\\Local\\Programs\\Python\\Python313\\Lib\\site-packages\\pygame\\pkgdata.py:25: UserWarning: pkg_resources is deprecated as an API. See https://setuptools.pypa.io/en/latest/pkg_resources.html. The pkg_resources package is slated for removal as early as 2025-11-30. Refrain from using this package or pin to Setuptools<81.\n",
      "  from pkg_resources import resource_stream, resource_exists\n"
     ]
    }
   ],
   "execution_count": 1
  },
  {
   "cell_type": "code",
   "metadata": {
    "ExecuteTime": {
     "end_time": "2025-08-25T17:02:44.052383Z",
     "start_time": "2025-08-25T17:02:44.049054Z"
    }
   },
   "source": [
    "gym.register(\n",
    "        id=\"gymnasium_env/MapPodRacing-v0\",\n",
    "        entry_point=MapPodRacing,\n",
    "        max_episode_steps=500,  # Prevent infinite episodes\n",
    ")\n",
    "\n",
    "env_name = 'gymnasium_env/MapPodRacing-v0'\n",
    "env = gym.make(env_name)"
   ],
   "outputs": [],
   "execution_count": 2
  },
  {
   "cell_type": "code",
   "metadata": {
    "ExecuteTime": {
     "end_time": "2025-08-25T17:02:44.074820Z",
     "start_time": "2025-08-25T17:02:44.070772Z"
    }
   },
   "source": [
    "class RL(nn.Module):\n",
    "    def __init__(self, action_num=8, hidden_size=64):\n",
    "        super(RL, self).__init__()\n",
    "        self.fc_actor1 = nn.Linear(8, hidden_size)\n",
    "        self.fc_actor2 = nn.Linear(hidden_size, hidden_size)\n",
    "        self.fc_actor3 = nn.Linear(hidden_size, action_num)\n",
    "\n",
    "        self.fc_critic1 = nn.Linear(8, hidden_size)\n",
    "        self.fc_critic2 = nn.Linear(hidden_size, hidden_size)\n",
    "        self.fc_critic3 = nn.Linear(hidden_size, 1)\n",
    "\n",
    "    def forward(self, x):\n",
    "        ax = F.relu(self.fc_actor1(x))\n",
    "        ax2 = F.relu(self.fc_actor2(ax))\n",
    "        dist = Categorical(logits = self.fc_actor3(ax2))\n",
    "                   \n",
    "        cx = F.relu(self.fc_critic1(x))\n",
    "        cx2 = F.relu(self.fc_critic2(cx))\n",
    "        value = self.fc_critic3(cx2)\n",
    "        return dist, value"
   ],
   "outputs": [],
   "execution_count": 3
  },
  {
   "cell_type": "code",
   "metadata": {
    "ExecuteTime": {
     "end_time": "2025-08-25T17:02:44.088407Z",
     "start_time": "2025-08-25T17:02:44.084416Z"
    }
   },
   "source": [
    "def calc_returns(rewards, gamma = 0.99):\n",
    "    returns = []\n",
    "    delta = 0\n",
    "    for reward in rewards[::-1]:\n",
    "        #Bug fixed on this line\n",
    "        delta = reward + gamma*delta\n",
    "        returns.insert(0, delta)\n",
    "    return returns\n",
    "\n",
    "def test_agent():\n",
    "    terminated = False\n",
    "    total_reward = 0\n",
    "    obs,info = env.reset()\n",
    "    observation = torch.FloatTensor(obs).unsqueeze(0)\n",
    "\n",
    "    with torch.no_grad():\n",
    "        while not terminated:\n",
    "            dist, _ = rl_model(observation)\n",
    "            action = dist.sample().cpu().item()\n",
    "            observation, reward, terminated, truncated, info = env.step(action)\n",
    "            \n",
    "            observation = torch.FloatTensor(observation).unsqueeze(0)\n",
    "            total_reward += reward\n",
    "            \n",
    "    return total_reward"
   ],
   "outputs": [],
   "execution_count": 4
  },
  {
   "cell_type": "code",
   "metadata": {
    "ExecuteTime": {
     "end_time": "2025-08-25T17:02:46.081415Z",
     "start_time": "2025-08-25T17:02:44.097852Z"
    }
   },
   "source": [
    "rl_model = RL()\n",
    "lr = 1e-1\n",
    "optimizer = optim.Adam(rl_model.parameters(), lr=lr)"
   ],
   "outputs": [],
   "execution_count": 5
  },
  {
   "cell_type": "code",
   "metadata": {
    "ExecuteTime": {
     "end_time": "2025-08-25T17:02:46.100964Z",
     "start_time": "2025-08-25T17:02:46.094719Z"
    }
   },
   "source": [
    "max_steps = 500000\n",
    "rollouts = 0\n",
    "step = 0\n",
    "score_logger = []\n",
    "epsilon = 0.3"
   ],
   "outputs": [],
   "execution_count": 6
  },
  {
   "cell_type": "code",
   "metadata": {},
   "source": [
    "while step < max_steps:\n",
    "    obs,info = env.reset()\n",
    "    observation =  torch.FloatTensor(obs).unsqueeze(0)\n",
    "    terminated = False\n",
    "    rewards = []\n",
    "    values = []\n",
    "    log_probs = []\n",
    "    \n",
    "    while not terminated:\n",
    "        dist, value = rl_model(observation)\n",
    "        z = random.random()\n",
    "        if z >= epsilon:\n",
    "            action = dist.sample()\n",
    "        else:\n",
    "            action = torch.tensor([random.randint(0, 7)])\n",
    "\n",
    "        log_prob = dist.log_prob(action.unsqueeze(0))\n",
    "        \n",
    "        observation, reward, terminated, truncated, info = env.step(action.cpu().item())\n",
    "\n",
    "        observation = torch.FloatTensor(observation).unsqueeze(0)\n",
    "        reward = torch.FloatTensor([reward]).unsqueeze(0)\n",
    "\n",
    "        rewards.append(reward)\n",
    "        values.append(value)\n",
    "        log_probs.append(log_prob)\n",
    "        step +=1\n",
    "    \n",
    "    returns = calc_returns(rewards)\n",
    "    \n",
    "    returns = torch.cat(returns, 1)\n",
    "    log_probs = torch.cat(log_probs, 1)\n",
    "    values = torch.cat(values, 1)\n",
    "    advantage = (returns - values).detach()\n",
    "    \n",
    "    action_loss = - (log_probs * advantage).mean()\n",
    "    critic_loss = (returns - values).pow(2).mean()\n",
    "    agent_loss = action_loss + critic_loss\n",
    "    \n",
    "    optimizer.zero_grad()\n",
    "    agent_loss.backward()\n",
    "    optimizer.step()\n",
    "    rollouts += 1\n",
    "    \n",
    "    if rollouts % 10 == 0:\n",
    "        new_lr = ((max_steps - step)/max_steps) * lr\n",
    "        optimizer.param_groups[0][\"lr\"] = new_lr\n",
    "        \n",
    "        score_logger.append(np.mean([test_agent() for _ in range(10)]))\n",
    "        clear_output(True)\n",
    "        plt.plot(score_logger)\n",
    "        plt.show()\n",
    "    \n",
    "env.close()\n",
    "\n",
    "terminated = False\n",
    "total_reward = 0\n",
    "obs,info = env.reset()\n",
    "observation = torch.FloatTensor(obs).unsqueeze(0)\n",
    "frames = [env.render()]\n",
    "round =0\n",
    "with torch.no_grad():\n",
    "    while not terminated:\n",
    "        round +=1\n",
    "        dist, _ = rl_model(observation)\n",
    "        action = dist.sample().cpu().item()\n",
    "        observation, reward, terminated, truncated, info = env.step(action)\n",
    "        frames.append(env.render())\n",
    "        observation = torch.FloatTensor(observation).unsqueeze(0)\n",
    "        total_reward += reward\n",
    "print(total_reward)\n",
    "print(round)\n",
    "imageio.mimsave(\"mad_pod_episode.gif\", frames, fps=10)\n"
   ],
   "execution_count": 7,
   "outputs": [
    {
     "name": "stdout",
     "output_type": "stream",
     "text": [
      "-25.300000000000004\n",
      "22\n"
     ]
    }
   ]
  },
  {
   "cell_type": "code",
   "metadata": {
    "ExecuteTime": {
     "end_time": "2025-08-25T17:16:53.123434Z",
     "start_time": "2025-08-25T17:16:53.117799Z"
    }
   },
   "source": [
    "value"
   ],
   "outputs": [
    {
     "data": {
      "text/plain": [
       "tensor([[-14.9607]], grad_fn=<AddmmBackward0>)"
      ]
     },
     "execution_count": 8,
     "metadata": {},
     "output_type": "execute_result"
    }
   ],
   "execution_count": 8
  },
  {
   "cell_type": "code",
   "metadata": {
    "ExecuteTime": {
     "end_time": "2025-08-25T17:16:53.308881Z",
     "start_time": "2025-08-25T17:16:53.197168Z"
    }
   },
   "source": [
    "plt.plot(score_logger)"
   ],
   "outputs": [
    {
     "data": {
      "text/plain": [
       "[<matplotlib.lines.Line2D at 0x24cce12f610>]"
      ]
     },
     "execution_count": 9,
     "metadata": {},
     "output_type": "execute_result"
    },
    {
     "data": {
      "text/plain": [
       "<Figure size 640x480 with 1 Axes>"
      ],
      "image/png": "[encoded data removed]"
     },
     "metadata": {},
     "output_type": "display_data"
    }
   ],
   "execution_count": 9
  },
  {
   "cell_type": "code",
   "metadata": {
    "ExecuteTime": {
     "end_time": "2025-08-25T17:21:27.906433Z",
     "start_time": "2025-08-25T17:21:27.839245Z"
    }
   },
   "source": [
    "terminated = False\n",
    "total_reward = 0\n",
    "obs,info = env.reset()\n",
    "observation = torch.FloatTensor(obs).unsqueeze(0)\n",
    "frames = [env.render()]\n",
    "round =0\n",
    "with torch.no_grad():\n",
    "    while not terminated:\n",
    "        round +=1\n",
    "        dist, _ = rl_model(observation)\n",
    "        action = dist.sample().cpu().item()\n",
    "        observation, reward, terminated, truncated, info = env.step(action)\n",
    "        frames.append(env.render())\n",
    "        observation = torch.FloatTensor(observation).unsqueeze(0)\n",
    "        total_reward += reward\n",
    "print(total_reward)\n",
    "print(round)\n",
    "imageio.mimsave(\"mad_pod_episode.gif\", frames, fps=10)"
   ],
   "outputs": [
    {
     "name": "stdout",
     "output_type": "stream",
     "text": [
      "-24.1\n",
      "28\n"
     ]
    }
   ],
   "execution_count": 33
  }
 ],
 "metadata": {
  "kernelspec": {
   "display_name": "Python 3",
   "language": "python",
   "name": "python3"
  },
  "language_info": {
   "codemirror_mode": {
    "name": "ipython",
    "version": 3
   },
   "file_extension": ".py",
   "mimetype": "text/x-python",
   "name": "python",
   "nbconvert_exporter": "python",
   "pygments_lexer": "ipython3",
   "version": "3.6.9"
  }
 },
 "nbformat": 4,
 "nbformat_minor": 2
}
